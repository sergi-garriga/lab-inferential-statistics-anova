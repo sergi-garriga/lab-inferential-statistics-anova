{
 "cells": [
  {
   "cell_type": "markdown",
   "id": "a9a2b9ea",
   "metadata": {},
   "source": [
    "# Imports"
   ]
  },
  {
   "cell_type": "code",
   "execution_count": 1,
   "id": "c8b3faa4",
   "metadata": {},
   "outputs": [],
   "source": [
    "import numpy as np\n",
    "import pandas as pd\n",
    "\n",
    "import matplotlib.pyplot as plt\n",
    "import seaborn as sns\n",
    "\n",
    "import math\n",
    "from scipy import stats"
   ]
  },
  {
   "cell_type": "markdown",
   "id": "927a0276",
   "metadata": {},
   "source": [
    "# Hypotesis testing\n",
    "# 3. ANOVA test"
   ]
  },
  {
   "cell_type": "markdown",
   "id": "bd6c2be9",
   "metadata": {},
   "source": [
    "Suppose you are working as an analyst in a microprocessor chip manufacturing plant. You have been given the task of analyzing a plasma etching process with respect to changing Power (in Watts) of the plasma beam. Data was collected and provided to you to conduct statistical analysis and check if changing the power of the plasma beam has any effect on the etching rate by the machine. You will conduct ANOVA and check if there is any difference in the mean etching rate for different levels of power. "
   ]
  },
  {
   "cell_type": "markdown",
   "id": "a6f02f2a",
   "metadata": {},
   "source": [
    "### Task"
   ]
  },
  {
   "cell_type": "markdown",
   "id": "f4b02991",
   "metadata": {},
   "source": [
    "**significance level = 0.05 (95% confidence)  \n",
    "goal: check if the plasma etching is significantly different depending on the power used**"
   ]
  },
  {
   "cell_type": "markdown",
   "id": "93a5d733",
   "metadata": {},
   "source": [
    "### Import data"
   ]
  },
  {
   "cell_type": "code",
   "execution_count": 2,
   "id": "37b958ed",
   "metadata": {},
   "outputs": [
    {
     "data": {
      "text/html": [
       "<div>\n",
       "<style scoped>\n",
       "    .dataframe tbody tr th:only-of-type {\n",
       "        vertical-align: middle;\n",
       "    }\n",
       "\n",
       "    .dataframe tbody tr th {\n",
       "        vertical-align: top;\n",
       "    }\n",
       "\n",
       "    .dataframe thead th {\n",
       "        text-align: right;\n",
       "    }\n",
       "</style>\n",
       "<table border=\"1\" class=\"dataframe\">\n",
       "  <thead>\n",
       "    <tr style=\"text-align: right;\">\n",
       "      <th></th>\n",
       "      <th>Power</th>\n",
       "      <th>Etching Rate</th>\n",
       "    </tr>\n",
       "  </thead>\n",
       "  <tbody>\n",
       "    <tr>\n",
       "      <th>0</th>\n",
       "      <td>160 W</td>\n",
       "      <td>5.43</td>\n",
       "    </tr>\n",
       "    <tr>\n",
       "      <th>1</th>\n",
       "      <td>180 W</td>\n",
       "      <td>6.24</td>\n",
       "    </tr>\n",
       "    <tr>\n",
       "      <th>2</th>\n",
       "      <td>200 W</td>\n",
       "      <td>8.79</td>\n",
       "    </tr>\n",
       "    <tr>\n",
       "      <th>3</th>\n",
       "      <td>160 W</td>\n",
       "      <td>5.71</td>\n",
       "    </tr>\n",
       "    <tr>\n",
       "      <th>4</th>\n",
       "      <td>180 W</td>\n",
       "      <td>6.71</td>\n",
       "    </tr>\n",
       "    <tr>\n",
       "      <th>5</th>\n",
       "      <td>200 W</td>\n",
       "      <td>9.20</td>\n",
       "    </tr>\n",
       "    <tr>\n",
       "      <th>6</th>\n",
       "      <td>160 W</td>\n",
       "      <td>6.22</td>\n",
       "    </tr>\n",
       "    <tr>\n",
       "      <th>7</th>\n",
       "      <td>180 W</td>\n",
       "      <td>5.98</td>\n",
       "    </tr>\n",
       "    <tr>\n",
       "      <th>8</th>\n",
       "      <td>200 W</td>\n",
       "      <td>7.90</td>\n",
       "    </tr>\n",
       "    <tr>\n",
       "      <th>9</th>\n",
       "      <td>160 W</td>\n",
       "      <td>6.01</td>\n",
       "    </tr>\n",
       "    <tr>\n",
       "      <th>10</th>\n",
       "      <td>180 W</td>\n",
       "      <td>5.66</td>\n",
       "    </tr>\n",
       "    <tr>\n",
       "      <th>11</th>\n",
       "      <td>200 W</td>\n",
       "      <td>8.15</td>\n",
       "    </tr>\n",
       "    <tr>\n",
       "      <th>12</th>\n",
       "      <td>160 W</td>\n",
       "      <td>5.59</td>\n",
       "    </tr>\n",
       "    <tr>\n",
       "      <th>13</th>\n",
       "      <td>180 W</td>\n",
       "      <td>6.60</td>\n",
       "    </tr>\n",
       "    <tr>\n",
       "      <th>14</th>\n",
       "      <td>200 W</td>\n",
       "      <td>7.55</td>\n",
       "    </tr>\n",
       "  </tbody>\n",
       "</table>\n",
       "</div>"
      ],
      "text/plain": [
       "   Power   Etching Rate\n",
       "0   160 W          5.43\n",
       "1   180 W          6.24\n",
       "2   200 W          8.79\n",
       "3   160 W          5.71\n",
       "4   180 W          6.71\n",
       "5   200 W          9.20\n",
       "6   160 W          6.22\n",
       "7   180 W          5.98\n",
       "8   200 W          7.90\n",
       "9   160 W          6.01\n",
       "10  180 W          5.66\n",
       "11  200 W          8.15\n",
       "12  160 W          5.59\n",
       "13  180 W          6.60\n",
       "14  200 W          7.55"
      ]
     },
     "execution_count": 2,
     "metadata": {},
     "output_type": "execute_result"
    }
   ],
   "source": [
    "df = pd.read_excel(\"files_for_lab/anova_lab_data.xlsx\")\n",
    "df"
   ]
  },
  {
   "cell_type": "code",
   "execution_count": 3,
   "id": "186544bc",
   "metadata": {},
   "outputs": [
    {
     "data": {
      "text/plain": [
       "Index(['Power ', 'Etching Rate'], dtype='object')"
      ]
     },
     "execution_count": 3,
     "metadata": {},
     "output_type": "execute_result"
    }
   ],
   "source": [
    "df.columns"
   ]
  },
  {
   "cell_type": "code",
   "execution_count": 4,
   "id": "0b1a74d0",
   "metadata": {},
   "outputs": [],
   "source": [
    "df.rename(columns={\"Power \": \"Power\"}, inplace=True)"
   ]
  },
  {
   "cell_type": "code",
   "execution_count": 5,
   "id": "7f84f389",
   "metadata": {},
   "outputs": [
    {
     "data": {
      "text/plain": [
       "160 W    5\n",
       "180 W    5\n",
       "200 W    5\n",
       "Name: Power, dtype: int64"
      ]
     },
     "execution_count": 5,
     "metadata": {},
     "output_type": "execute_result"
    }
   ],
   "source": [
    "df['Power'].value_counts()"
   ]
  },
  {
   "cell_type": "markdown",
   "id": "418b0929",
   "metadata": {},
   "source": [
    "### Organising data"
   ]
  },
  {
   "cell_type": "code",
   "execution_count": 6,
   "id": "cbec54b4",
   "metadata": {},
   "outputs": [
    {
     "name": "stderr",
     "output_type": "stream",
     "text": [
      "/var/folders/8f/gg3d93d120s3hxst3s0295kc0000gn/T/ipykernel_20572/595245043.py:4: SettingWithCopyWarning: \n",
      "A value is trying to be set on a copy of a slice from a DataFrame\n",
      "\n",
      "See the caveats in the documentation: https://pandas.pydata.org/pandas-docs/stable/user_guide/indexing.html#returning-a-view-versus-a-copy\n",
      "  df160.drop(columns='Power', axis=1, inplace=True)\n",
      "/var/folders/8f/gg3d93d120s3hxst3s0295kc0000gn/T/ipykernel_20572/595245043.py:5: SettingWithCopyWarning: \n",
      "A value is trying to be set on a copy of a slice from a DataFrame\n",
      "\n",
      "See the caveats in the documentation: https://pandas.pydata.org/pandas-docs/stable/user_guide/indexing.html#returning-a-view-versus-a-copy\n",
      "  df160.rename(columns={'Etching Rate':'Power'}, inplace=True)\n",
      "/var/folders/8f/gg3d93d120s3hxst3s0295kc0000gn/T/ipykernel_20572/595245043.py:8: SettingWithCopyWarning: \n",
      "A value is trying to be set on a copy of a slice from a DataFrame\n",
      "\n",
      "See the caveats in the documentation: https://pandas.pydata.org/pandas-docs/stable/user_guide/indexing.html#returning-a-view-versus-a-copy\n",
      "  df180.drop(columns='Power', axis=1, inplace=True)\n",
      "/var/folders/8f/gg3d93d120s3hxst3s0295kc0000gn/T/ipykernel_20572/595245043.py:9: SettingWithCopyWarning: \n",
      "A value is trying to be set on a copy of a slice from a DataFrame\n",
      "\n",
      "See the caveats in the documentation: https://pandas.pydata.org/pandas-docs/stable/user_guide/indexing.html#returning-a-view-versus-a-copy\n",
      "  df180.rename(columns={'Etching Rate':'Power'}, inplace=True)\n",
      "/var/folders/8f/gg3d93d120s3hxst3s0295kc0000gn/T/ipykernel_20572/595245043.py:12: SettingWithCopyWarning: \n",
      "A value is trying to be set on a copy of a slice from a DataFrame\n",
      "\n",
      "See the caveats in the documentation: https://pandas.pydata.org/pandas-docs/stable/user_guide/indexing.html#returning-a-view-versus-a-copy\n",
      "  df200.drop(columns='Power', axis=1, inplace=True)\n",
      "/var/folders/8f/gg3d93d120s3hxst3s0295kc0000gn/T/ipykernel_20572/595245043.py:13: SettingWithCopyWarning: \n",
      "A value is trying to be set on a copy of a slice from a DataFrame\n",
      "\n",
      "See the caveats in the documentation: https://pandas.pydata.org/pandas-docs/stable/user_guide/indexing.html#returning-a-view-versus-a-copy\n",
      "  df200.rename(columns={'Etching Rate':'Power'}, inplace=True)\n"
     ]
    }
   ],
   "source": [
    "df['Power'].replace(to_replace=['160 W', '180 W', '200 W'], value=[160, 180, 200], inplace=True)\n",
    "\n",
    "df160 = df.loc[df['Power']==160]\n",
    "df160.drop(columns='Power', axis=1, inplace=True)\n",
    "df160.rename(columns={'Etching Rate':'Power'}, inplace=True)\n",
    "\n",
    "df180 = df.loc[df['Power']==180]\n",
    "df180.drop(columns='Power', axis=1, inplace=True)\n",
    "df180.rename(columns={'Etching Rate':'Power'}, inplace=True)\n",
    "\n",
    "df200 = df.loc[df['Power']==200]\n",
    "df200.drop(columns='Power', axis=1, inplace=True)\n",
    "df200.rename(columns={'Etching Rate':'Power'}, inplace=True)\n"
   ]
  },
  {
   "cell_type": "code",
   "execution_count": 7,
   "id": "7b7fdf7a",
   "metadata": {
    "scrolled": true
   },
   "outputs": [
    {
     "name": "stdout",
     "output_type": "stream",
     "text": [
      "Power 160: mean 5.792, standard deviation 0.286, samples 5\n",
      "Power 180: mean 6.238, standard deviation 0.388, samples 5\n",
      "Power 200: mean 8.318, standard deviation 0.599, samples 5\n"
     ]
    }
   ],
   "source": [
    "print('Power 160: mean {:.3f}, standard deviation {:.3f}, samples {}'.format(np.mean(df160['Power']), \n",
    "                                                                       np.std(df160['Power']),\n",
    "                                                                       df160['Power'].count()))\n",
    "print('Power 180: mean {:.3f}, standard deviation {:.3f}, samples {}'.format(np.mean(df180['Power']), \n",
    "                                                                       np.std(df180['Power']),\n",
    "                                                                       df180['Power'].count()))\n",
    "print('Power 200: mean {:.3f}, standard deviation {:.3f}, samples {}'.format(np.mean(df200['Power']), \n",
    "                                                                       np.std(df200['Power']),\n",
    "                                                                       df200['Power'].count()))"
   ]
  },
  {
   "cell_type": "code",
   "execution_count": 8,
   "id": "5c508564",
   "metadata": {},
   "outputs": [],
   "source": [
    "mean_160, std_160, n_160 = np.mean(df160['Power']), np.std(df160['Power']), df160['Power'].count()\n",
    "mean_180, std_180, n_180 = np.mean(df180['Power']), np.std(df180['Power']), df180['Power'].count()\n",
    "mean_200, std_200, n_200 = np.mean(df200['Power']), np.std(df200['Power']), df200['Power'].count()"
   ]
  },
  {
   "cell_type": "markdown",
   "id": "07d70a8b",
   "metadata": {},
   "source": [
    "### Checking data"
   ]
  },
  {
   "cell_type": "code",
   "execution_count": 9,
   "id": "db9ed499",
   "metadata": {},
   "outputs": [
    {
     "name": "stderr",
     "output_type": "stream",
     "text": [
      "/opt/anaconda3/lib/python3.9/site-packages/seaborn/distributions.py:2619: FutureWarning: `distplot` is a deprecated function and will be removed in a future version. Please adapt your code to use either `displot` (a figure-level function with similar flexibility) or `histplot` (an axes-level function for histograms).\n",
      "  warnings.warn(msg, FutureWarning)\n",
      "/opt/anaconda3/lib/python3.9/site-packages/seaborn/distributions.py:2619: FutureWarning: `distplot` is a deprecated function and will be removed in a future version. Please adapt your code to use either `displot` (a figure-level function with similar flexibility) or `histplot` (an axes-level function for histograms).\n",
      "  warnings.warn(msg, FutureWarning)\n",
      "/opt/anaconda3/lib/python3.9/site-packages/seaborn/distributions.py:2619: FutureWarning: `distplot` is a deprecated function and will be removed in a future version. Please adapt your code to use either `displot` (a figure-level function with similar flexibility) or `histplot` (an axes-level function for histograms).\n",
      "  warnings.warn(msg, FutureWarning)\n"
     ]
    },
    {
     "data": {
      "text/plain": [
       "<AxesSubplot:xlabel='Power', ylabel='Density'>"
      ]
     },
     "execution_count": 9,
     "metadata": {},
     "output_type": "execute_result"
    },
    {
     "data": {
      "image/png": "[encoded data removed]",
      "text/plain": [
       "<Figure size 432x288 with 3 Axes>"
      ]
     },
     "metadata": {
      "needs_background": "light"
     },
     "output_type": "display_data"
    }
   ],
   "source": [
    "plt.subplot(1, 3, 1)\n",
    "sns.distplot(df160['Power'], bins=10)\n",
    "\n",
    "plt.subplot(1, 3, 2)\n",
    "sns.distplot(df180['Power'], bins=10)\n",
    "\n",
    "plt.subplot(1, 3, 3)\n",
    "sns.distplot(df200['Power'], bins=10)"
   ]
  },
  {
   "cell_type": "markdown",
   "id": "856cd4de",
   "metadata": {},
   "source": [
    "### Define the problem"
   ]
  },
  {
   "cell_type": "markdown",
   "id": "88f55035",
   "metadata": {},
   "source": [
    "We are interested in testing the hypothesis that the mean etching between the three samples is statistically the same, or, in other words, that there is statistically no difference between the average beam etching when changin the used power. \n",
    " \n",
    "\n",
    "**- H0: Them means of all groups are the same**  \n",
    "H0: µ_160 = µ_180 = µ_200 \n",
    "\n",
    "**- HA: At least, one of the means is different**  \n",
    "HA: \n",
    "\n",
    "\n",
    "So, the probability of the new mean time being statistically smaller than the old mean time is equal to the idea of finding a t-statistics value more extreme than our critical value. \n",
    "\n",
    "- P(µ_160 ≠ µ_180 | µ_160 ≠ µ_200 | µ_180 ≠ µ_200 )\n",
    "- P(f-critical < f-statistics) \n",
    "- P(f-critical < (MSB / MSE))\n",
    "- P(f-critical < (Mean squares between groups, MSB = SSB / df1) / (Mean squares of errors, MSE = SSE / df2))\n",
    "- P(f-critical < (∑n_j (X̄_j - X̄)^2 / k - 1) / (∑∑(X- X̄j)^2 / N - k))"
   ]
  },
  {
   "cell_type": "markdown",
   "id": "50a58f66",
   "metadata": {},
   "source": [
    "### Set up confidence - t-critical value"
   ]
  },
  {
   "cell_type": "markdown",
   "id": "b13c152d",
   "metadata": {},
   "source": [
    "Determining a t-critical value from the Z distribution. How likely are we to reject the Null Hypotesis when it is actually true (Type I error rate).\n",
    "\n",
    "- α = Level of significance = P(Type I error) = P(Reject H0 | H0 is true) = 0.05 (95% of confidence)  \n",
    "- dfn = The numerator degrees of freedom = The numerator degrees of freedom will be the degrees of freedom for whichever sample has the larger variance = n - 1 = 4\n",
    "- dfd = The denominator degrees of freedom = The denominator degrees of freedom will be the degrees of freedom for whichever sample has the smaller variance = n - 1 = 4\n",
    "- t-critical = 1.833 (from tables, one tailed test)"
   ]
  },
  {
   "cell_type": "code",
   "execution_count": 10,
   "id": "f7e289d4",
   "metadata": {},
   "outputs": [
    {
     "data": {
      "text/plain": [
       "6.388232908695868"
      ]
     },
     "execution_count": 10,
     "metadata": {},
     "output_type": "execute_result"
    }
   ],
   "source": [
    "alpha = 0.05\n",
    "dfn = n_160 - 1\n",
    "dfd = n_200 - 1\n",
    "f_critical = stats.f.ppf(q=1-alpha, dfn=dfn, dfd=dfd) \n",
    "f_critical\n",
    "\n",
    "# anova tests or chi-square tests do not use a symetrical distribution like t or z distributions. They are,\n",
    "# instead, using a f distribution, which is not symetrical, and cannot have a one-tailed option. "
   ]
  },
  {
   "cell_type": "markdown",
   "id": "a23daa9d",
   "metadata": {},
   "source": [
    "### Calculating our t-statistics"
   ]
  },
  {
   "cell_type": "code",
   "execution_count": 11,
   "id": "c7470706",
   "metadata": {},
   "outputs": [
    {
     "name": "stdout",
     "output_type": "stream",
     "text": [
      "36.87895470100505 7.506584272358903e-06\n"
     ]
    }
   ],
   "source": [
    "f_statistics, p_value = stats.f_oneway(df160['Power'], df180['Power'], df200['Power'])\n",
    "print(f_statistics, p_value)"
   ]
  },
  {
   "cell_type": "markdown",
   "id": "05fb23a8",
   "metadata": {},
   "source": [
    "### Results"
   ]
  },
  {
   "cell_type": "code",
   "execution_count": 12,
   "id": "ed53a4a7",
   "metadata": {},
   "outputs": [
    {
     "data": {
      "text/plain": [
       "True"
      ]
     },
     "execution_count": 12,
     "metadata": {},
     "output_type": "execute_result"
    }
   ],
   "source": [
    "f_critical < f_statistics"
   ]
  },
  {
   "cell_type": "code",
   "execution_count": 13,
   "id": "442d9e72",
   "metadata": {},
   "outputs": [
    {
     "data": {
      "text/plain": [
       "True"
      ]
     },
     "execution_count": 13,
     "metadata": {},
     "output_type": "execute_result"
    }
   ],
   "source": [
    "p_value < alpha"
   ]
  },
  {
   "cell_type": "markdown",
   "id": "10814d42",
   "metadata": {},
   "source": [
    "### Conclusions"
   ]
  },
  {
   "cell_type": "markdown",
   "id": "94027005",
   "metadata": {},
   "source": [
    "Our f-statistics is more extreme than the f-critical value, and our p-value is lower than the alpha assigned. So we can reject the null hypothesis, that all the mean etching of the three samples are statisticalle the same.  \n"
   ]
  },
  {
   "cell_type": "code",
   "execution_count": null,
   "id": "9eec3596",
   "metadata": {},
   "outputs": [],
   "source": []
  },
  {
   "cell_type": "code",
   "execution_count": null,
   "id": "e51e4bf5",
   "metadata": {},
   "outputs": [],
   "source": []
  },
  {
   "cell_type": "code",
   "execution_count": null,
   "id": "581b4312",
   "metadata": {},
   "outputs": [],
   "source": []
  }
 ],
 "metadata": {
  "kernelspec": {
   "display_name": "Python 3 (ipykernel)",
   "language": "python",
   "name": "python3"
  },
  "language_info": {
   "codemirror_mode": {
    "name": "ipython",
    "version": 3
   },
   "file_extension": ".py",
   "mimetype": "text/x-python",
   "name": "python",
   "nbconvert_exporter": "python",
   "pygments_lexer": "ipython3",
   "version": "3.9.12"
  }
 },
 "nbformat": 4,
 "nbformat_minor": 5
}
